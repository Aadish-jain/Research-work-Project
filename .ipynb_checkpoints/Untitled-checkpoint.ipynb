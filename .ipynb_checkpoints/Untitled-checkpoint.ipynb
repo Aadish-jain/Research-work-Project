{
 "cells": [
  {
   "cell_type": "code",
   "execution_count": null,
   "metadata": {},
   "outputs": [],
   "source": [
    "print('Hello')"
   ]
  },
  {
   "cell_type": "code",
   "execution_count": null,
   "metadata": {},
   "outputs": [],
   "source": [
    "m = int(input(\"Enter Number of ROws: \"))\n",
    "n = int(input(\"Enter Number of Columns: \"))\n",
    "if m == n:\n",
    "    Matrix = []\n",
    "    for i in range(0,n):\n",
    "        Matrix.append([int(x) for x in input().split()])\n",
    "    #     print(\"append vala\",Matrix)\n",
    "    for i in range(0,m):\n",
    "        for j in range(0,n):\n",
    "            Matrix[i].append(j)\n",
    "    #         print(\"append 2\",Matrix)\n",
    "            Matrix[i][j] = 0\n",
    "    for i in range (0,m):\n",
    "        for j in range (0,n):\n",
    "            print('Entry in row :',i+1,'Column:',j+1)\n",
    "            Matrix[i][j] = int(input())\n",
    "    print(Matrix)\n",
    "print(\"Rows and Columns must be same\")"
   ]
  },
  {
   "cell_type": "code",
   "execution_count": null,
   "metadata": {},
   "outputs": [],
   "source": [
    "matrix = [\n",
    "    [[1,1,1],[2,2,2],[3,3,3]],\n",
    "    [[4,4,4],[5,5,5],[6,6,6]],\n",
    "    [[7,7,7],[8,8,8],[9,9,9]]\n",
    "]\n"
   ]
  },
  {
   "cell_type": "code",
   "execution_count": null,
   "metadata": {},
   "outputs": [],
   "source": [
    "print(matrix[0])"
   ]
  },
  {
   "cell_type": "code",
   "execution_count": null,
   "metadata": {},
   "outputs": [],
   "source": [
    "print(matrix[0][0])"
   ]
  },
  {
   "cell_type": "code",
   "execution_count": null,
   "metadata": {},
   "outputs": [],
   "source": [
    "print(matrix[0][0][0])"
   ]
  },
  {
   "cell_type": "code",
   "execution_count": null,
   "metadata": {},
   "outputs": [],
   "source": [
    "print(matrix[0][0][1])"
   ]
  },
  {
   "cell_type": "code",
   "execution_count": null,
   "metadata": {},
   "outputs": [],
   "source": [
    "print(matrix[0][0][2])"
   ]
  },
  {
   "cell_type": "code",
   "execution_count": null,
   "metadata": {},
   "outputs": [],
   "source": [
    "print(matrix[0][2][0])"
   ]
  },
  {
   "cell_type": "code",
   "execution_count": null,
   "metadata": {},
   "outputs": [],
   "source": [
    "import numpy as n"
   ]
  },
  {
   "cell_type": "code",
   "execution_count": null,
   "metadata": {},
   "outputs": [],
   "source": [
    "a = n.array([[[1,2,3],[3,4,5],[5,6,7]],[[1,2,3],[3,4,5],[5,6,7]],[[1,2,3],[3,4,5],[5,6,7]]])"
   ]
  },
  {
   "cell_type": "code",
   "execution_count": null,
   "metadata": {},
   "outputs": [],
   "source": [
    "print(a)"
   ]
  },
  {
   "cell_type": "code",
   "execution_count": null,
   "metadata": {},
   "outputs": [],
   "source": [
    "print(a[0][0][1])"
   ]
  },
  {
   "cell_type": "code",
   "execution_count": null,
   "metadata": {},
   "outputs": [],
   "source": [
    "a = n.array\n",
    "([1,2,3],[3,4,5],[5,6,7])"
   ]
  },
  {
   "cell_type": "code",
   "execution_count": null,
   "metadata": {},
   "outputs": [],
   "source": [
    "# List default values\n",
    "list = [[(1,1,1),(1.5,2,2.5),(1.5,2,2.5)]\n",
    "    ,[(0.4,0.5,0.67),(1,1,1),(0.67,1,2)]\n",
    "    ,[(0.4,0.5,0.67),(0.5,1,1.5),(1,1,1)]]\n",
    "print(list)"
   ]
  },
  {
   "cell_type": "code",
   "execution_count": null,
   "metadata": {},
   "outputs": [],
   "source": [
    "# Sum of Rows column wise\n",
    "b = [[0,0,0],[0,0,0],[0,0,0]]\n",
    "# print('b is',b)\n",
    "for k in range(0,3):\n",
    "    for i in range(0,3):\n",
    "        for j in range(0,3):\n",
    "            b[k][j] = b[k][j] + list[k][i][j]\n",
    "#             print('j is :',j,'new list',b[j])\n",
    "print(b)"
   ]
  },
  {
   "cell_type": "code",
   "execution_count": null,
   "metadata": {},
   "outputs": [],
   "source": [
    "# Sum of All above\n",
    "c = [0,0,0]\n",
    "for i in range(0,3):\n",
    "    for j in range(0,3):\n",
    "        c[j] = c[j] + b[i][j]\n",
    "print(c)"
   ]
  },
  {
   "cell_type": "code",
   "execution_count": null,
   "metadata": {},
   "outputs": [],
   "source": [
    "# reciprocal\n",
    "for i in range(0,3):\n",
    "    c[i] = 1/c[i]\n",
    "print(c)"
   ]
  },
  {
   "cell_type": "code",
   "execution_count": null,
   "metadata": {},
   "outputs": [],
   "source": [
    "# swap the 1 with last\n",
    "length = len(c)\n",
    "for i in range(length//2):\n",
    "    c[i],c[length-i-1] = c[length-i-1],c[i]\n",
    "print(\"c is sum all:\",c)\n",
    "print(\"b is: a1a2a3\",b)"
   ]
  },
  {
   "cell_type": "code",
   "execution_count": null,
   "metadata": {},
   "outputs": [],
   "source": [
    "# multiply\n",
    "d = []\n",
    "for i in range(0,3):\n",
    "    for j in range(0,3):\n",
    "        d.append(c[j] * b[i][j])  \n",
    "print(d)"
   ]
  },
  {
   "cell_type": "code",
   "execution_count": null,
   "metadata": {},
   "outputs": [],
   "source": [
    "# SF's\n",
    "sf1 = d[0:3]\n",
    "sf2 = d[3:6]\n",
    "sf3 = d[6:]\n",
    "print(\"SF1 is :\",sf1)\n",
    "print(\"SF2 is :\",sf2)\n",
    "print(\"SF3 is :\",sf3)\n",
    "\n"
   ]
  },
  {
   "cell_type": "code",
   "execution_count": 3,
   "metadata": {},
   "outputs": [
    {
     "name": "stdout",
     "output_type": "stream",
     "text": [
      "ENTER THE NUMBER OF ROWS AND COLUMN[Rows must be equal to column] :3\n",
      "1.0\n",
      "1.0\n",
      "1.0\n",
      "1.5\n",
      "2.0\n",
      "2.5\n",
      "1.5\n",
      "2.0\n",
      "2.5\n",
      "0.4\n",
      "0.5\n",
      "0.67\n",
      "1.0\n",
      "1.0\n",
      "1.0\n",
      "0.67\n",
      "1.0\n",
      "2.0\n",
      "0.4\n",
      "0.5\n",
      "0.67\n",
      "0.5\n",
      "1.0\n",
      "1.5\n",
      "1.0\n",
      "1.0\n",
      "1.0\n",
      "Reciprocal [1/SAll] is :  [0.1255, 0.1, 0.0779]\n",
      "c is sum all[after swapping]: [0.0779, 0.1, 0.1255]\n",
      "[0.3116, 0.5, 0.753, 0.1613, 0.25, 0.4606, 0.148, 0.25, 0.3978]\n",
      "SF 1 is [0.3116, 0.5, 0.753]\n",
      "SF 2 is [0.1613, 0.25, 0.4606]\n",
      "SF 3 is [0.148, 0.25, 0.3978]\n"
     ]
    }
   ],
   "source": [
    "# Till Now Correct\n",
    "n = int(input(\"ENTER THE NUMBER OF ROWS AND COLUMN[Rows must be equal to column] :\"))\n",
    "a = []\n",
    "main_list = [[[1.0, 1.0, 1.0], [1.5, 2.0, 2.5], [1.5, 2.0, 2.5]],[[0.4, 0.5, 0.67], [1.0, 1.0, 1.0], [0.67, 1.0, 2.0]], [[0.4, 0.5, 0.67], [0.5, 1.0, 1.5], [1.0, 1.0, 1.0]]]\n",
    "# for i in range(0,n):\n",
    "#     a = []\n",
    "#     for j in range (0,n):\n",
    "#         a.append([float(x) for x in input().split()])\n",
    "#     main_list.insert(i,a)\n",
    "#     del a\n",
    "# print(\"Main List is :\",main_list)\n",
    "# Sum of Rows column wise\n",
    "\n",
    "# b = [[0,0,0]]\n",
    "# for i in range(0,len(b)//n):\n",
    "#     b.append(b)\n",
    "# b = [[0,0,0],[0,0,0],[0,0,0]]\n",
    "b = []\n",
    "for j in range (0,n):\n",
    "    b.append([0,0,0])\n",
    "for k in range(0,n):\n",
    "    for i in range(0,n):\n",
    "        for j in range(0,3):\n",
    "            print(main_list[k][i][j])\n",
    "            b[k][j] = b[k][j] + main_list[k][i][j]\n",
    "#     print(\"SA\",k,\"is:\",b)\n",
    "# Sum of All above\n",
    "c = [0,0,0]\n",
    "for i in range(0,n):\n",
    "    for j in range(0,3):\n",
    "        c[j] = c[j] + b[i][j]\n",
    "# print(\"Sum of SA1 + SA2 + SA3 is:SAll -->\",c)\n",
    "# reciprocal\n",
    "for i in range(0,3):\n",
    "    c[i] = 1/c[i]\n",
    "    c[i] = round(c[i],4)\n",
    "print(\"Reciprocal [1/SAll] is : \",c)\n",
    "# swap the first with last\n",
    "length = len(c)\n",
    "for i in range(length//2):\n",
    "    c[i],c[length-i-1] = c[length-i-1],c[i]\n",
    "print(\"c is sum all[after swapping]:\",c)\n",
    "# print(\"b is: Sa1,Sa2,Sa3 :\",b)\n",
    "# multiply\n",
    "d = []\n",
    "for i in range(0,n):\n",
    "    for j in range(0,3):\n",
    "        var = c[j] * b[i][j]\n",
    "        var = round(var,4)\n",
    "        d.append(var)  \n",
    "print(d)\n",
    "# SF's\n",
    "# final_list = []\n",
    "# for i in range(0,n):\n",
    "#     final_list.append(d)\n",
    "#     final_list.insert(i,d)\n",
    "# print(final_list)\n",
    "    \n",
    "length1 = len(d)//n\n",
    "sum = 0\n",
    "for i in range(0,n):\n",
    "    print(\"SF\",i+1,\"is\",d[sum:length1])\n",
    "    sum = length1\n",
    "    length1 = length1 + 3\n",
    "    \n",
    "    \n",
    "    \n",
    "# sf1 = d[0:3]\n",
    "# sf2 = d[3:6]\n",
    "# sf3 = d[6:]\n",
    "# print(\"SF1 is :\",sf1)\n",
    "# print(\"SF2 is :\",sf2)\n",
    "# print(\"SF3 is :\",sf3)\n",
    "# 1 1 1\n",
    "# 1.5 2 2.5\n",
    "# 1.5 2 2.5\n",
    "# 0.4 0.5 0.67\n",
    "# 1 1 1\n",
    "# 0.67 1 2\n",
    "# 0.4 0.5 0.67\n",
    "# 0.5 1 1.5\n",
    "# 1 1 1"
   ]
  },
  {
   "cell_type": "markdown",
   "metadata": {},
   "source": [
    "\n",
    "### n = 2\n",
    "a = []\n",
    "b = []\n",
    "for i in range(0,1):\n",
    "    for j in range(0,n):\n",
    "        a.append([int(x) for x in input().split()])\n",
    "        print(a)\n",
    "    b.append(a)\n",
    "    print(b)\n",
    "    del a[0 : ]\n",
    "    print(a)\n",
    "print(b)"
   ]
  },
  {
   "cell_type": "code",
   "execution_count": 2,
   "metadata": {},
   "outputs": [
    {
     "name": "stdout",
     "output_type": "stream",
     "text": [
      "Main Input Matrix is : [[[1.0, 1.0, 1.0], [1.5, 2.0, 2.5], [1.5, 2.0, 2.5]], [[0.4, 0.5, 0.67], [1.0, 1.0, 1.0], [0.67, 1.0, 2.0]], [[0.4, 0.5, 0.67], [0.5, 1.0, 1.5], [1.0, 1.0, 1.0]]]\n",
      "SA 1 is [[4.0, 5.0, 6.0]]\n",
      "SA 2 is [[2.07, 2.5, 3.67]]\n",
      "SA 3 is [[1.9, 2.5, 3.17]]\n",
      "Sum of SA1 + SA2 + SA3 is:S.all. --> [7.970000000000001, 10.0, 12.84]\n",
      "Reciprocal [1/S.all.] is :  [0.1255, 0.1, 0.0779]\n",
      "c is S.all.[after swapping]: [0.0779, 0.1, 0.1255]\n",
      "[0.3116, 0.5, 0.753, 0.1613, 0.25, 0.4606, 0.148, 0.25, 0.3978]\n"
     ]
    },
    {
     "ename": "IndexError",
     "evalue": "list assignment index out of range",
     "output_type": "error",
     "traceback": [
      "\u001b[1;31m---------------------------------------------------------------------------\u001b[0m",
      "\u001b[1;31mIndexError\u001b[0m                                Traceback (most recent call last)",
      "\u001b[1;32m<ipython-input-2-0ba8d257ab81>\u001b[0m in \u001b[0;36m<module>\u001b[1;34m\u001b[0m\n\u001b[0;32m     66\u001b[0m \u001b[1;32mfor\u001b[0m \u001b[0mi\u001b[0m \u001b[1;32min\u001b[0m \u001b[0mrange\u001b[0m\u001b[1;33m(\u001b[0m\u001b[1;36m0\u001b[0m\u001b[1;33m,\u001b[0m\u001b[0mn\u001b[0m\u001b[1;33m)\u001b[0m\u001b[1;33m:\u001b[0m\u001b[1;33m\u001b[0m\u001b[1;33m\u001b[0m\u001b[0m\n\u001b[0;32m     67\u001b[0m     \u001b[0ma\u001b[0m \u001b[1;33m=\u001b[0m \u001b[1;33m[\u001b[0m\u001b[1;33m]\u001b[0m\u001b[1;33m\u001b[0m\u001b[1;33m\u001b[0m\u001b[0m\n\u001b[1;32m---> 68\u001b[1;33m     \u001b[0ma\u001b[0m\u001b[1;33m[\u001b[0m\u001b[0mi\u001b[0m\u001b[1;33m]\u001b[0m \u001b[1;33m=\u001b[0m \u001b[1;33m[\u001b[0m\u001b[1;33m(\u001b[0m\u001b[0md\u001b[0m\u001b[1;33m[\u001b[0m\u001b[0msum\u001b[0m\u001b[1;33m:\u001b[0m\u001b[0mlength1\u001b[0m\u001b[1;33m]\u001b[0m\u001b[1;33m)\u001b[0m\u001b[1;33m]\u001b[0m\u001b[1;33m\u001b[0m\u001b[1;33m\u001b[0m\u001b[0m\n\u001b[0m\u001b[0;32m     69\u001b[0m     \u001b[0mprint\u001b[0m\u001b[1;33m(\u001b[0m\u001b[1;34m\"SF\"\u001b[0m\u001b[1;33m,\u001b[0m\u001b[0mi\u001b[0m\u001b[1;33m+\u001b[0m\u001b[1;36m1\u001b[0m\u001b[1;33m,\u001b[0m\u001b[1;34m\"is\"\u001b[0m\u001b[1;33m,\u001b[0m\u001b[0md\u001b[0m\u001b[1;33m[\u001b[0m\u001b[0msum\u001b[0m\u001b[1;33m:\u001b[0m\u001b[0mlength1\u001b[0m\u001b[1;33m]\u001b[0m\u001b[1;33m)\u001b[0m\u001b[1;33m\u001b[0m\u001b[1;33m\u001b[0m\u001b[0m\n\u001b[0;32m     70\u001b[0m     \u001b[0msum\u001b[0m \u001b[1;33m=\u001b[0m \u001b[0mlength1\u001b[0m\u001b[1;33m\u001b[0m\u001b[1;33m\u001b[0m\u001b[0m\n",
      "\u001b[1;31mIndexError\u001b[0m: list assignment index out of range"
     ]
    }
   ],
   "source": [
    "# n is the number of rows and columns of square matrix  \n",
    "# n = int(input(\"ENTER THE NUMBER OF ROWS AND COLUMN[Rows must be equal to column] :\"))\n",
    "\n",
    "# # Enter Values in the matrix with number1[space]number2[space]number3\n",
    "# print(\"Enter Values in the matrix with number1[space]number2[space]number3 \\n Example: 1 1 1 [enter]\" )\n",
    "# print(\"Enter the values of Matrix : \\n\")\n",
    "a = []\n",
    "main_input_list = [[[1.0, 1.0, 1.0], [1.5, 2.0, 2.5], [1.5, 2.0, 2.5]],[[0.4, 0.5, 0.67], [1.0, 1.0, 1.0], [0.67, 1.0, 2.0]], [[0.4, 0.5, 0.67], [0.5, 1.0, 1.5], [1.0, 1.0, 1.0]]]\n",
    "\n",
    "# main_input_list = []\n",
    "# for i in range(0,n):\n",
    "#     a = []   \n",
    "#     for i in range(0,n):\n",
    "#         a.append([float(x) for x in input().split()])\n",
    "#     main_input_list.insert(i,a)\n",
    "#     del a\n",
    "print(\"Main Input Matrix is :\",main_input_list)\n",
    "\n",
    "# Sum of Rows Column Wise\n",
    "b = []\n",
    "for j in range (0,n):\n",
    "    b.append([0,0,0])\n",
    "for i in range(0,n):\n",
    "    for j in range(0,n):\n",
    "        for k in range(0,3):\n",
    "            # print(main_input_list[i][j][k])\n",
    "            b[i][k] = b[i][k] + main_input_list[i][j][k]\n",
    "# print(b)    \n",
    "length = len(b)//n\n",
    "sum1 = 0\n",
    "for i in range(0,n):\n",
    "    print(\"SA\",i+1,\"is\",b[sum1:length])\n",
    "    sum1 = length\n",
    "    length = length + 1\n",
    "\n",
    "\n",
    "# Sum of All above matrix --> SA1 + SA2 + SA3\n",
    "c = [0,0,0]\n",
    "for i in range(0,n):\n",
    "    for j in range(0,3):\n",
    "        c[j] = c[j] + b[i][j]\n",
    "print(\"Sum of SA1 + SA2 + SA3 is:S.all. -->\",c)\n",
    "\n",
    "# Reciprocal 1/S.all.\n",
    "for i in range(0,3):\n",
    "    c[i] = 1/c[i]\n",
    "    c[i] = round(c[i],4)  # round upto 4 decimal places\n",
    "print(\"Reciprocal [1/S.all.] is : \",c)\n",
    "\n",
    "# swap the first with last element\n",
    "length = len(c)\n",
    "for i in range(length//2):\n",
    "    c[i],c[length-i-1] = c[length-i-1],c[i]\n",
    "print(\"c is S.all.[after swapping]:\",c)\n",
    "\n",
    "# multiply\n",
    "d = []\n",
    "for i in range(0,n):\n",
    "    for j in range(0,3):\n",
    "        var = c[j] * b[i][j]\n",
    "        var = round(var,4) # round upto 4 decimal places\n",
    "        d.append(var)  \n",
    "print(d)  \n",
    "length1 = len(d)//n  # floor division means [5/2 --> 2.5 --> 2(floor value)]\n",
    "sum = 0\n",
    "for i in range(0,n):\n",
    "    a = []\n",
    "    a[i] = [(d[sum:length1])]\n",
    "    print(\"SF\",i+1,\"is\",d[sum:length1])\n",
    "    sum = length1\n",
    "    length1 = length1 + 3\n",
    "    \n",
    "\n",
    "    # 1 1 1\n",
    "# 1.5 2 2.5\n",
    "# 1.5 2 2.5\n",
    "# 0.4 0.5 0.67\n",
    "# 1 1 1\n",
    "# 0.67 1 2\n",
    "# 0.4 0.5 0.67\n",
    "# 0.5 1 1.5\n",
    "# 1 1 1\n",
    "    \n",
    "    "
   ]
  },
  {
   "cell_type": "code",
   "execution_count": 11,
   "metadata": {},
   "outputs": [
    {
     "ename": "SyntaxError",
     "evalue": "invalid syntax (<ipython-input-11-4aaebc35f3cd>, line 1)",
     "output_type": "error",
     "traceback": [
      "\u001b[1;36m  File \u001b[1;32m\"<ipython-input-11-4aaebc35f3cd>\"\u001b[1;36m, line \u001b[1;32m1\u001b[0m\n\u001b[1;33m    a = (1:0,2:3)\u001b[0m\n\u001b[1;37m          ^\u001b[0m\n\u001b[1;31mSyntaxError\u001b[0m\u001b[1;31m:\u001b[0m invalid syntax\n"
     ]
    }
   ],
   "source": []
  },
  {
   "cell_type": "code",
   "execution_count": 67,
   "metadata": {},
   "outputs": [
    {
     "name": "stdout",
     "output_type": "stream",
     "text": [
      "ENTER THE NUMBER OF ROWS AND COLUMN[Rows must be equal to column] :3\n",
      "Enter Values in the matrix with number1[space]number2[space]number3 \n",
      " Example: 1 1 1 [enter]\n",
      "Enter the values of Matrix : \n",
      "\n",
      "Main Input Matrix is : [[[1.0, 1.0, 1.0], [1.5, 2.0, 2.5], [1.5, 2.0, 2.5]], [[0.4, 0.5, 0.67], [1.0, 1.0, 1.0], [0.67, 1.0, 2.0]], [[0.4, 0.5, 0.67], [0.5, 1.0, 1.5], [1.0, 1.0, 1.0]]]\n",
      "SA 1 is [[4.0, 5.0, 6.0]]\n",
      "SA 2 is [[2.07, 2.5, 3.67]]\n",
      "SA 3 is [[1.9, 2.5, 3.17]]\n",
      "Sum of SA1 + SA2 + SA3 is:S.all. --> [7.970000000000001, 10.0, 12.84]\n",
      "Reciprocal [1/S.all.] is :  [0.1255, 0.1, 0.0779]\n",
      "c is S.all.[after swapping]: [0.0779, 0.1, 0.1255]\n",
      "[0.3116, 0.5, 0.753, 0.1613, 0.25, 0.4606, 0.148, 0.25, 0.3978]\n",
      "SF 1 is [0.3116, 0.5, 0.753]\n",
      "f 1 is [0.3116, 0.5, 0.753]\n",
      "SF 2 is [0.1613, 0.25, 0.4606]\n",
      "f 2 is [0.1613, 0.25, 0.4606]\n",
      "SF 3 is [0.148, 0.25, 0.3978]\n",
      "f 3 is [0.148, 0.25, 0.3978]\n",
      "[[0.3116, 0.5, 0.753], [0.1613, 0.25, 0.4606], [0.148, 0.25, 0.3978]]\n",
      "fi fj [0.3116, 0.5, 0.753] [0.3116, 0.5, 0.753]\n",
      "min_list is [-1, 99999]\n",
      "fi fj [0.3116, 0.5, 0.753] [0.1613, 0.25, 0.4606]\n",
      "p is : 1\n",
      "min_list is [-1, 1]\n",
      "fi fj [0.3116, 0.5, 0.753] [0.148, 0.25, 0.3978]\n",
      "p is : 1\n",
      "min_list is [-1, 1]\n",
      "Final Min list is :---------------------------------------> None\n",
      "fi fj [0.1613, 0.25, 0.4606] [0.3116, 0.5, 0.753]\n",
      "p is : 1.7042\n",
      "min_list is [-1, 1.7042]\n",
      "fi fj [0.1613, 0.25, 0.4606] [0.1613, 0.25, 0.4606]\n",
      "min_list is [-1, 99999]\n",
      "fi fj [0.1613, 0.25, 0.4606] [0.148, 0.25, 0.3978]\n",
      "p is : 1\n",
      "min_list is [-1, 1]\n",
      "Final Min list is :---------------------------------------> None\n",
      "fi fj [0.148, 0.25, 0.3978] [0.3116, 0.5, 0.753]\n",
      "p is : 1.7042\n",
      "min_list is [-1, 1.7042]\n",
      "fi fj [0.148, 0.25, 0.3978] [0.1613, 0.25, 0.4606]\n",
      "p is : 1\n",
      "min_list is [-1, 1]\n",
      "fi fj [0.148, 0.25, 0.3978] [0.148, 0.25, 0.3978]\n",
      "min_list is [-1, 99999]\n",
      "Final Min list is :---------------------------------------> None\n"
     ]
    }
   ],
   "source": [
    "# n is the number of rows and columns of square matrix  \n",
    "n = int(input(\"ENTER THE NUMBER OF ROWS AND COLUMN[Rows must be equal to column] :\"))\n",
    "\n",
    "# Enter Values in the matrix with number1[space]number2[space]number3\n",
    "print(\"Enter Values in the matrix with number1[space]number2[space]number3 \\n Example: 1 1 1 [enter]\" )\n",
    "print(\"Enter the values of Matrix : \\n\")\n",
    "a = []\n",
    "# main_input_list = []\n",
    "main_input_list =  [[[1.0, 1.0, 1.0],\n",
    "                     [1.5, 2.0, 2.5],\n",
    "                     [1.5, 2.0, 2.5]],\n",
    "                    [[0.4, 0.5, 0.67], [1.0, 1.0, 1.0], [0.67, 1.0, 2.0]]\n",
    "                    ,[[0.4, 0.5, 0.67], [0.5, 1.0, 1.5], [1.0, 1.0, 1.0]]]\n",
    "# main_input_list =  [[[1,1,1],\n",
    "#                      [1,1,1],\n",
    "#                      [1,1,1]],\n",
    "#                     [[1,1,1],\n",
    "#                      [1,1,1],\n",
    "#                      [1,1,1]],\n",
    "#                     [[1,1,1],\n",
    "#                      [1,1,1],\n",
    "#                      [1,1,1]],\n",
    "#                     ]\n",
    "# for i in range(0,n):\n",
    "#     a = []   \n",
    "#     for i in range(0,n):\n",
    "#         a.append([float(x) for x in input().split()])\n",
    "#     main_input_list.insert(i,a)\n",
    "#     del a\n",
    "print(\"Main Input Matrix is :\",main_input_list)\n",
    "\n",
    "# Sum of Rows Column Wise\n",
    "b = []\n",
    "for j in range (0,n):\n",
    "    b.append([0,0,0])\n",
    "for i in range(0,n):\n",
    "    for j in range(0,n):\n",
    "        for k in range(0,3):\n",
    "            # print(main_input_list[i][j][k])\n",
    "            b[i][k] = b[i][k] + main_input_list[i][j][k]\n",
    "# print(b)    \n",
    "length = len(b)//n\n",
    "sum1 = 0\n",
    "for i in range(0,n):\n",
    "    print(\"SA\",i+1,\"is\",b[sum1:length])\n",
    "    sum1 = length\n",
    "    length = length + 1\n",
    "\n",
    "\n",
    "# Sum of All above matrix --> SA1 + SA2 + SA3\n",
    "c = [0,0,0]\n",
    "for i in range(0,n):\n",
    "    for j in range(0,3):\n",
    "        c[j] = c[j] + b[i][j]\n",
    "print(\"Sum of SA1 + SA2 + SA3 is:S.all. -->\",c)\n",
    "\n",
    "# Reciprocal 1/S.all.\n",
    "for i in range(0,3):\n",
    "    c[i] = 1/c[i]\n",
    "    c[i] = round(c[i],4)  # round upto 4 decimal places\n",
    "print(\"Reciprocal [1/S.all.] is : \",c)\n",
    "\n",
    "# swap the first with last element\n",
    "length = len(c)\n",
    "for i in range(length//2):\n",
    "    c[i],c[length-i-1] = c[length-i-1],c[i]\n",
    "print(\"c is S.all.[after swapping]:\",c)\n",
    "\n",
    "# multiply\n",
    "d = []\n",
    "for i in range(0,n):\n",
    "    for j in range(0,3):\n",
    "        var = c[j] * b[i][j]\n",
    "        var = round(var,4) # round upto 4 decimal places\n",
    "        d.append(var)  \n",
    "print(d)  \n",
    "length1 = len(d)//n  # floor division means [5/2 --> 2.5 --> 2(floor value)]\n",
    "sum = 0\n",
    "f = []\n",
    "for i in range(0,n):\n",
    "    print(\"SF\",i+1,\"is\",d[sum:length1])\n",
    "    a = d[sum:length1]\n",
    "    f.append(a)\n",
    "    print(\"f\",i+1,\"is\",f[i])\n",
    "    sum = length1\n",
    "    length1 = length1 + 3\n",
    "print(f)\n",
    "\n",
    "P = []\n",
    "min_list = [-1]\n",
    "# min_list1 = ()\n",
    "for i in range(0,n):\n",
    "    P = f[i]\n",
    "    j = 0\n",
    "#     l1 = f[i][j]         SF1\n",
    "    m1 = f[i][j+1]\n",
    "    u1 = f[i][j+2]\n",
    "#     print(\"l1m1u1\",l1,m1,u1)\n",
    "    for j in range(0,n):\n",
    "        p = 99999\n",
    "        if(f[i] == f[j]):\n",
    "            print(\"fi fj\",f[i],f[j])\n",
    "            min_list1 = min_list.append(p)\n",
    "            print(\"min_list is\",min_list)\n",
    "#             min_list = [-1]\n",
    "        else:\n",
    "            print(\"fi fj\",f[i],f[j])\n",
    "            k = 0\n",
    "            l2 = f[j][k]\n",
    "            m2 = f[j][k+1]\n",
    "            u2 = f[j][k+2]\n",
    "# #             print(\"l2m2u2\",l2,m2,u2)\n",
    "            if(m1 >= m2):\n",
    "                p = 1\n",
    "                print(\"p is :\",p)\n",
    "                min_list1 = min_list.append(p)\n",
    "                print(\"min_list is\",min_list)\n",
    "#                 min_list = [-1]\n",
    "            elif(l2 >= u1):\n",
    "                p = 0\n",
    "                print(\"p is :\",p)\n",
    "                min_list1 = min_list.append(p)\n",
    "                print(\"min_list is\",min_list)\n",
    "#                 min_list = [-1]\n",
    "            else:\n",
    "                var1 = p = ((l1 - u2)/((m2 - u2) - (m1 - l1)))\n",
    "                p = round(var1,4)\n",
    "                print(\"p is :\",p)\n",
    "                min_list1 = min_list.append(p)\n",
    "                print(\"min_list is\",min_list)\n",
    "                min_list = [-1]\n",
    "    print(\"Final Min list is :--------------------------------------->\",min_list1)\n",
    "#     min_list1 = [99999]\n",
    "# #         print(\"Final p is:\",p)\n",
    "# #         min_list.append(p)\n",
    "# #               print(\"Not same\")\n",
    "                \n",
    "           \n",
    "\n",
    "\n",
    "\n",
    "\n",
    "\n",
    "\n",
    "\n",
    "\n",
    "\n",
    "\n",
    "\n",
    "\n",
    "\n",
    "\n",
    "\n",
    "            \n",
    "        \n",
    "       \n",
    "        \n",
    "\n",
    "\n",
    "# for f[i]:\n",
    "\n",
    "# for i inz range(0,n-1):\n",
    "#     for j in range(0,1):\n",
    "#         l1 = f[i][j]\n",
    "#         m1 = f[i][j+1]\n",
    "#         u1 = f[i][j+2]\n",
    "# #         print(\"l1m1u1\",l1,m1,u1)\n",
    "#         for k in range(1,n):\n",
    "#             l2 = f[k][j]\n",
    "#             m2 = f[k][j+1]\n",
    "#             u2 = f[k][j+2]\n",
    "# #             print(\"l2m2u2\",l2,m2,u2)\n",
    "#             if(m1 >= m2):\n",
    "#                 p = 1 \n",
    "#                 print(\"P is 1\")\n",
    "#             elif(l2 >= u1):\n",
    "#                 p = 0\n",
    "#                 print(\"P is 0\")\n",
    "#             else:\n",
    "#                 p = 0\n",
    "#                 p = ((l1 - u2)/((m2 - u2) - (m1 - l1)))\n",
    "#                 print(\"P is \",p)\n",
    "#         print(\"p :\",k,\"is: \",p)\n",
    "#     print(p)\n",
    "# print(p)\n",
    "\n",
    "    \n",
    "\n",
    "\n",
    "\n",
    "\n",
    "#Find Value of P1,P2,P3\n",
    "# for i in range(0,3):\n",
    "#     if(d[i+1] >= d[i+4]):\n",
    "#         print(\"p = 1\")\n",
    "#     elif(d[i+2] <= d[i]):\n",
    "#         print(\"p = 0\")\n",
    "#     else:\n",
    "#         p = 0\n",
    "#         p = (d[i]-d[i+5])/((d[i+4]-d[i+5])-(d[i+1]-d[i]))\n",
    "#         print(\"p = \",p)"
   ]
  },
  {
   "cell_type": "code",
   "execution_count": null,
   "metadata": {},
   "outputs": [],
   "source": []
  },
  {
   "cell_type": "code",
   "execution_count": 35,
   "metadata": {},
   "outputs": [
    {
     "data": {
      "text/plain": [
       "0.40540540540540543"
      ]
     },
     "execution_count": 35,
     "metadata": {},
     "output_type": "execute_result"
    }
   ],
   "source": [
    "15/37\n"
   ]
  },
  {
   "cell_type": "code",
   "execution_count": 1,
   "metadata": {},
   "outputs": [
    {
     "name": "stdout",
     "output_type": "stream",
     "text": [
      "ENTER THE NUMBER OF ROWS AND COLUMN[Rows must be equal to column] :3\n",
      "Enter Values in the matrix with number1[space]number2[space]number3 \n",
      " Example: 1 1 1 [enter]\n",
      "Enter the values of Matrix : \n",
      "\n",
      "Main Input Matrix is : [[[1.0, 1.0, 1.0], [1.5, 2.0, 2.5], [1.5, 2.0, 2.5]], [[0.4, 0.5, 0.67], [1.0, 1.0, 1.0], [0.67, 1.0, 2.0]], [[0.4, 0.5, 0.67], [0.5, 1.0, 1.5], [1.0, 1.0, 1.0]]]\n",
      "SA 1 is [[4.0, 5.0, 6.0]]\n",
      "SA 2 is [[2.07, 2.5, 3.67]]\n",
      "SA 3 is [[1.9, 2.5, 3.17]]\n",
      "Sum of SA1 + SA2 + SA3 is:S.all. --> [7.970000000000001, 10.0, 12.84]\n",
      "Reciprocal [1/S.all.] is :  [0.1255, 0.1, 0.0779]\n",
      "c is S.all.[after swapping]: [0.0779, 0.1, 0.1255]\n",
      "[0.3116, 0.5, 0.753, 0.1613, 0.25, 0.4606, 0.148, 0.25, 0.3978]\n",
      "SF 1 is [0.3116, 0.5, 0.753]\n",
      "f 1 is [0.3116, 0.5, 0.753]\n",
      "SF 2 is [0.1613, 0.25, 0.4606]\n",
      "f 2 is [0.1613, 0.25, 0.4606]\n",
      "SF 3 is [0.148, 0.25, 0.3978]\n",
      "f 3 is [0.148, 0.25, 0.3978]\n",
      "[[0.3116, 0.5, 0.753], [0.1613, 0.25, 0.4606], [0.148, 0.25, 0.3978]]\n",
      "P is 1\n",
      "P is 1\n",
      "p : 2 is:  1\n",
      "1\n",
      "P is 1\n",
      "P is 1\n",
      "p : 2 is:  1\n",
      "1\n",
      "1\n"
     ]
    }
   ],
   "source": [
    "# n is the number of rows and columns of square matrix  \n",
    "n = int(input(\"ENTER THE NUMBER OF ROWS AND COLUMN[Rows must be equal to column] :\"))\n",
    "\n",
    "# Enter Values in the matrix with number1[space]number2[space]number3\n",
    "print(\"Enter Values in the matrix with number1[space]number2[space]number3 \\n Example: 1 1 1 [enter]\" )\n",
    "print(\"Enter the values of Matrix : \\n\")\n",
    "a = []\n",
    "# main_input_list = []\n",
    "main_input_list =  [[[1.0, 1.0, 1.0],\n",
    "                     [1.5, 2.0, 2.5],\n",
    "                     [1.5, 2.0, 2.5]],\n",
    "                    [[0.4, 0.5, 0.67], [1.0, 1.0, 1.0], [0.67, 1.0, 2.0]]\n",
    "                    ,[[0.4, 0.5, 0.67], [0.5, 1.0, 1.5], [1.0, 1.0, 1.0]]]\n",
    "# for i in range(0,n):\n",
    "#     a = []   \n",
    "#     for i in range(0,n):\n",
    "#         a.append([float(x) for x in input().split()])\n",
    "#     main_input_list.insert(i,a)\n",
    "#     del a\n",
    "print(\"Main Input Matrix is :\",main_input_list)\n",
    "\n",
    "# Sum of Rows Column Wise\n",
    "b = []\n",
    "for j in range (0,n):\n",
    "    b.append([0,0,0])\n",
    "for i in range(0,n):\n",
    "    for j in range(0,n):\n",
    "        for k in range(0,3):\n",
    "            # print(main_input_list[i][j][k])\n",
    "            b[i][k] = b[i][k] + main_input_list[i][j][k]\n",
    "# print(b)    \n",
    "length = len(b)//n\n",
    "sum1 = 0\n",
    "for i in range(0,n):\n",
    "    print(\"SA\",i+1,\"is\",b[sum1:length])\n",
    "    sum1 = length\n",
    "    length = length + 1\n",
    "\n",
    "\n",
    "# Sum of All above matrix --> SA1 + SA2 + SA3\n",
    "c = [0,0,0]\n",
    "for i in range(0,n):\n",
    "    for j in range(0,3):\n",
    "        c[j] = c[j] + b[i][j]\n",
    "print(\"Sum of SA1 + SA2 + SA3 is:S.all. -->\",c)\n",
    "\n",
    "# Reciprocal 1/S.all.\n",
    "for i in range(0,3):\n",
    "    c[i] = 1/c[i]\n",
    "    c[i] = round(c[i],4)  # round upto 4 decimal places\n",
    "print(\"Reciprocal [1/S.all.] is : \",c)\n",
    "\n",
    "# swap the first with last element\n",
    "length = len(c)\n",
    "for i in range(length//2):\n",
    "    c[i],c[length-i-1] = c[length-i-1],c[i]\n",
    "print(\"c is S.all.[after swapping]:\",c)\n",
    "\n",
    "# multiply\n",
    "d = []\n",
    "for i in range(0,n):\n",
    "    for j in range(0,3):\n",
    "        var = c[j] * b[i][j]\n",
    "        var = round(var,4) # round upto 4 decimal places\n",
    "        d.append(var)  \n",
    "print(d)  \n",
    "length1 = len(d)//n  # floor division means [5/2 --> 2.5 --> 2(floor value)]\n",
    "sum = 0\n",
    "f = []\n",
    "for i in range(0,n):\n",
    "    print(\"SF\",i+1,\"is\",d[sum:length1])\n",
    "    a = d[sum:length1]\n",
    "    f.append(a)\n",
    "    print(\"f\",i+1,\"is\",f[i])\n",
    "    sum = length1\n",
    "    length1 = length1 + 3\n",
    "print(f)\n",
    "\n",
    "# for f[i]:\n",
    "\n",
    "for i in range(0,n-1):\n",
    "    for j in range(0,1):\n",
    "        l1 = f[i][j]\n",
    "        m1 = f[i][j+1]\n",
    "        u1 = f[i][j+2]\n",
    "#         print(\"l1m1u1\",l1,m1,u1)\n",
    "        for k in range(1,n):\n",
    "            l2 = f[k][j]\n",
    "            m2 = f[k][j+1]\n",
    "            u2 = f[k][j+2]\n",
    "#             print(\"l2m2u2\",l2,m2,u2)\n",
    "            if(m1 >= m2):\n",
    "                p = 1 \n",
    "                print(\"P is 1\")\n",
    "            elif(l2 >= u1):\n",
    "                p = 0\n",
    "                print(\"P is 0\")\n",
    "            else:\n",
    "                p = 0\n",
    "                p = ((l1 - u2)/((m2 - u2) - (m1 - l1)))\n",
    "                print(\"P is \",p)\n",
    "        print(\"p :\",k,\"is: \",p)\n",
    "    print(p)\n",
    "print(p)\n",
    "\n",
    "    \n",
    "\n",
    "\n",
    "\n",
    "\n",
    "#Find Value of P1,P2,P3\n",
    "# for i in range(0,3):\n",
    "#     if(d[i+1] >= d[i+4]):\n",
    "#         print(\"p = 1\")\n",
    "#     elif(d[i+2] <= d[i]):\n",
    "#         print(\"p = 0\")\n",
    "#     else:\n",
    "#         p = 0\n",
    "#         p = (d[i]-d[i+5])/((d[i+4]-d[i+5])-(d[i+1]-d[i]))\n",
    "#         print(\"p = \",p)"
   ]
  },
  {
   "cell_type": "code",
   "execution_count": 4,
   "metadata": {},
   "outputs": [
    {
     "name": "stdout",
     "output_type": "stream",
     "text": [
      "ENTER THE NUMBER OF ROWS AND COLUMN[Rows must be equal to column] :3\n",
      "Total Required reliability of System is :.95\n",
      "Enter Values in the matrix with number1[space]number2[space]number3 \n",
      " Example: 1 1 1 [enter]\n",
      "Enter the values of Matrix : \n",
      "\n",
      "\n",
      " Main Input Matrix is :\n",
      " [[[1.0, 1.0, 1.0], [1.5, 2.0, 2.5], [1.5, 2.0, 2.5]], [[0.4, 0.5, 0.67], [1.0, 1.0, 1.0], [0.67, 1.0, 2.0]], [[0.4, 0.5, 0.67], [0.5, 1.0, 1.5], [1.0, 1.0, 1.0]]]\n",
      "SA 1 is [[4.0, 5.0, 6.0]]\n",
      "SA 2 is [[2.07, 2.5, 3.67]]\n",
      "SA 3 is [[1.9, 2.5, 3.17]]\n",
      "\n",
      " Sum of SA1 + SA2 + SA3 is:S.all. --> [7.97, 10.0, 12.84]\n",
      "\n",
      " Reciprocal [1/S.all.] is :\t  [0.1255, 0.1, 0.0779]\n",
      "\n",
      " c is S.all.[after swapping]:\t [0.0779, 0.1, 0.1255]\n",
      "SF 1 is [0.3116, 0.5, 0.753]\n",
      "SF 2 is [0.1613, 0.25, 0.4606]\n",
      "SF 3 is [0.148, 0.25, 0.3978]\n",
      "Final Min List is  [99999, 1, 1, 0.3734, 99999, 1, 0.2564, 1, 99999]\n",
      "p 1 ` is: 1\n",
      "p 2 ` is: 0.3734\n",
      "p 3 ` is: 0.2564\n",
      "store_p is : [1, 0.3734, 0.2564]\n",
      "Normalized Weight is : [0.6136, 0.2291, 0.1573]\n",
      "Reliability Allocation for F 1 is :( 0.95 ) **  0.6136  : 0.9690165716455604\n",
      "Reliability Allocation for F 2 is :( 0.95 ) **  0.2291  : 0.9883174830391338\n",
      "Reliability Allocation for F 3 is :( 0.95 ) **  0.1573  : 0.9919640272504348\n"
     ]
    }
   ],
   "source": [
    "# FINAL Kiran Mam PROJECT\n",
    "\n",
    "def abc(n,reliability):\n",
    "    # Enter Values in the matrix with number1[space]number2[space]number3\n",
    "    print(\"Enter Values in the matrix with number1[space]number2[space]number3 \\n Example: 1 1 1 [enter]\" )\n",
    "    print(\"Enter the values of Matrix : \\n\")\n",
    "    a = []\n",
    "    # main_input_list = []\n",
    "    main_input_list =   [[[1.0, 1.0, 1.0],\n",
    "                     [1.5, 2.0, 2.5],\n",
    "                     [1.5, 2.0, 2.5]],\n",
    "                    [[0.4, 0.5, 0.67], [1.0, 1.0, 1.0], [0.67, 1.0, 2.0]]\n",
    "                    ,[[0.4, 0.5, 0.67], [0.5, 1.0, 1.5], [1.0, 1.0, 1.0]]]\n",
    "    # for i in range(0,n):\n",
    "    #     a = []   \n",
    "    #     for i in range(0,n):\n",
    "    #         a.append([float(x) for x in input().split()])\n",
    "    #     main_input_list.insert(i,a)\n",
    "    #     del a\n",
    "    print(\"\\n Main Input Matrix is :\\n\",main_input_list)\n",
    "\n",
    "    # Sum of Rows Column Wise\n",
    "    b = []\n",
    "    for j in range (0,n):\n",
    "        b.append([0,0,0])\n",
    "    for i in range(0,n):\n",
    "        for j in range(0,n):\n",
    "            for k in range(0,3):\n",
    "                # print(main_input_list[i][j][k])\n",
    "                b[i][k] = b[i][k] + main_input_list[i][j][k]\n",
    "\n",
    "    # print(b)    \n",
    "    length = len(b)//n\n",
    "    sum1 = 0\n",
    "    for i in range(0,n):\n",
    "        print(\"SA\",i+1,\"is\",b[sum1:length])\n",
    "        sum1 = length\n",
    "        length = length + 1\n",
    "\n",
    "\n",
    "    # Sum of All above matrix --> SA1 + SA2 + SA3\n",
    "    c = [0,0,0]\n",
    "    for i in range(0,n):\n",
    "        for j in range(0,3):\n",
    "            c[j] = c[j] + b[i][j]\n",
    "            c[j] = round(c[j],4) \n",
    "    print(\"\\n Sum of SA1 + SA2 + SA3 is:S.all. -->\",c)\n",
    "\n",
    "    # Reciprocal 1/S.all.\n",
    "    for i in range(0,3):\n",
    "        c[i] = 1/c[i]\n",
    "        c[i] = round(c[i],4)  # round upto 4 decimal places\n",
    "    print(\"\\n Reciprocal [1/S.all.] is :\\t \",c)\n",
    "\n",
    "    # swap the first with last element\n",
    "    length = len(c)\n",
    "    for i in range(length//2):\n",
    "        c[i],c[length-i-1] = c[length-i-1],c[i]\n",
    "    print(\"\\n c is S.all.[after swapping]:\\t\",c)\n",
    "\n",
    "    # multiply\n",
    "    d = []\n",
    "    for i in range(0,n):\n",
    "        for j in range(0,3):\n",
    "            var = c[j] * b[i][j]\n",
    "            var = round(var,4) # round upto 4 decimal places\n",
    "            d.append(var)  \n",
    "    # print(d)  \n",
    "    length1 = len(d)//n  # floor division means [5/2 --> 2.5 --> 2(floor value)]\n",
    "    sum = 0\n",
    "    f = []\n",
    "    for i in range(0,n):\n",
    "        print(\"SF\",i+1,\"is\",d[sum:length1])\n",
    "        a = d[sum:length1]\n",
    "        f.append(a)\n",
    "    #     print(\"f\",i+1,\"is\",f[i])\n",
    "        sum = length1\n",
    "        length1 = length1 + 3\n",
    "    # print(f)\n",
    "\n",
    "\n",
    "    # Find the value of p` \n",
    "    P = []\n",
    "    min_list = []\n",
    "    for i in range(0,n):\n",
    "        P = f[i]\n",
    "        j = 0\n",
    "        l1 = f[i][j]         #SF1\n",
    "        m1 = f[i][j+1]\n",
    "        u1 = f[i][j+2]\n",
    "    #     print(\"l1m1u1\",l1,m1,u1)\n",
    "        for j in range(0,n):\n",
    "            p = 99999\n",
    "            if(f[i] == f[j]):\n",
    "    #             print(\"fi fj\",f[i],f[j])\n",
    "                min_list1 = min_list.append(p)\n",
    "    #             print(\"min_list is\",min_list)\n",
    "            else:\n",
    "    #             print(\"fi fj\",f[i],f[j])\n",
    "                k = 0\n",
    "                l2 = f[j][k]\n",
    "                m2 = f[j][k+1]\n",
    "                u2 = f[j][k+2]\n",
    "    # #             print(\"l2m2u2\",l2,m2,u2)\n",
    "                if(m1 >= m2):\n",
    "                    p = 1\n",
    "    #                 print(\"p is :\",p)\n",
    "                    min_list1 = min_list.append(p)\n",
    "    #                 print(\"min_list is\",min_list)\n",
    "                elif(l2 >= u1):\n",
    "                    p = 0\n",
    "    #                 print(\"p is :\",p)\n",
    "                    min_list1 = min_list.append(p)\n",
    "    #                 print(\"min_list is\",min_list)\n",
    "                else:\n",
    "                    l1 , l2 = l2 ,l1\n",
    "                    u1 , u2 = u2 , u1\n",
    "                    m1 , m2 = m2 , m1\n",
    "                    var1 = p = ((l1 - u2)/((m2 - u2) - (m1 - l1)))\n",
    "                    p = round(var1,4)\n",
    "    #                 print(\"p is :\",p)\n",
    "                    min_list1 = min_list.append(p)\n",
    "    #                 print(\"min_list is\",min_list)\n",
    "    print(\"Final Min List is \",min_list)\n",
    "    g = []\n",
    "    sum = 0\n",
    "    length2 = len(min_list) // n\n",
    "    for i in range(0,n):\n",
    "    #     print(\"p \",i+1,\"` is :\",min_list[sum:length2])\n",
    "        a = min_list[sum:length2]\n",
    "        g.append(a)\n",
    "    #     print(\"g\",i+1,\"is\",g[i])\n",
    "        sum = length2\n",
    "        length2 = length2 + n\n",
    "    #     print(\"gis\",g)\n",
    "    store_p = []\n",
    "    for j in range(0,n):\n",
    "        p = min(g[j]) \n",
    "        store_p.append(p)\n",
    "        print(\"p\",j+1,\"` is:\",p)\n",
    "    print(\"store_p is :\",store_p)\n",
    "\n",
    "    p_sum = 0\n",
    "    for i in range(0,n):\n",
    "        p_sum += store_p[i] \n",
    "    # print(p_sum)\n",
    "\n",
    "    norm_w = []\n",
    "    n_re = []\n",
    "    for i in range(0,n):\n",
    "        n_re = store_p[i] / p_sum\n",
    "        n_re = round(n_re,4)\n",
    "        norm_w.append(n_re)\n",
    "    print(\"Normalized Weight is :\",norm_w)\n",
    "    length3 = len(norm_w)\n",
    "\n",
    "    R = 0.0000\n",
    "    b = []\n",
    "    for j in range(0,length3):\n",
    "        R = reliability ** norm_w[j]\n",
    "        b.append(R)\n",
    "        print(\"Reliability Allocation for F\",j+1,\"is :\" \"(\",reliability,\") ** \",norm_w[j],\" :\",b[j])\n",
    "        \n",
    "        \n",
    "# n is the number of rows and columns of square matrix \n",
    "\n",
    "n = int(input(\"ENTER THE NUMBER OF ROWS AND COLUMN[Rows must be equal to column] :\"))\n",
    "reliability = float(input(\"Total Required reliability of System is :\"))\n",
    "\n",
    "abc(n,reliability)\n"
   ]
  },
  {
   "cell_type": "code",
   "execution_count": 18,
   "metadata": {},
   "outputs": [
    {
     "data": {
      "text/plain": [
       "-0.355"
      ]
     },
     "execution_count": 18,
     "metadata": {},
     "output_type": "execute_result"
    }
   ],
   "source": [
    "-.253 - 0.1020"
   ]
  },
  {
   "cell_type": "code",
   "execution_count": 19,
   "metadata": {},
   "outputs": [
    {
     "data": {
      "text/plain": [
       "1.704225352112676"
      ]
     },
     "execution_count": 19,
     "metadata": {},
     "output_type": "execute_result"
    }
   ],
   "source": [
    "0.6050 / 0.355"
   ]
  },
  {
   "cell_type": "code",
   "execution_count": 17,
   "metadata": {},
   "outputs": [
    {
     "data": {
      "text/plain": [
       "0.10200000000000001"
      ]
     },
     "execution_count": 17,
     "metadata": {},
     "output_type": "execute_result"
    }
   ],
   "source": [
    ".25 - .1480"
   ]
  },
  {
   "cell_type": "code",
   "execution_count": 20,
   "metadata": {},
   "outputs": [
    {
     "data": {
      "text/plain": [
       "0.3333333333333333"
      ]
     },
     "execution_count": 20,
     "metadata": {},
     "output_type": "execute_result"
    }
   ],
   "source": [
    "1/3"
   ]
  },
  {
   "cell_type": "code",
   "execution_count": 24,
   "metadata": {},
   "outputs": [
    {
     "data": {
      "text/plain": [
       "0.9025"
      ]
     },
     "execution_count": 24,
     "metadata": {},
     "output_type": "execute_result"
    }
   ],
   "source": [
    "(0.95) ** 2"
   ]
  },
  {
   "cell_type": "code",
   "execution_count": 28,
   "metadata": {},
   "outputs": [
    {
     "data": {
      "text/plain": [
       "4"
      ]
     },
     "execution_count": 28,
     "metadata": {},
     "output_type": "execute_result"
    }
   ],
   "source": [
    "2 ** 2"
   ]
  },
  {
   "cell_type": "code",
   "execution_count": 29,
   "metadata": {},
   "outputs": [
    {
     "data": {
      "text/plain": [
       "9"
      ]
     },
     "execution_count": 29,
     "metadata": {},
     "output_type": "execute_result"
    }
   ],
   "source": [
    "3 ** 2"
   ]
  },
  {
   "cell_type": "code",
   "execution_count": 30,
   "metadata": {},
   "outputs": [
    {
     "data": {
      "text/plain": [
       "4.5"
      ]
     },
     "execution_count": 30,
     "metadata": {},
     "output_type": "execute_result"
    }
   ],
   "source": [
    "9 / 2"
   ]
  },
  {
   "cell_type": "code",
   "execution_count": 31,
   "metadata": {},
   "outputs": [
    {
     "data": {
      "text/plain": [
       "3.0"
      ]
     },
     "execution_count": 31,
     "metadata": {},
     "output_type": "execute_result"
    }
   ],
   "source": [
    "9/3"
   ]
  },
  {
   "cell_type": "code",
   "execution_count": 32,
   "metadata": {},
   "outputs": [
    {
     "data": {
      "text/plain": [
       "0.9830492532846131"
      ]
     },
     "execution_count": 32,
     "metadata": {},
     "output_type": "execute_result"
    }
   ],
   "source": [
    "0.95 ** 0.3333"
   ]
  },
  {
   "cell_type": "code",
   "execution_count": 33,
   "metadata": {},
   "outputs": [
    {
     "data": {
      "text/plain": [
       "1.034788687668014"
      ]
     },
     "execution_count": 33,
     "metadata": {},
     "output_type": "execute_result"
    }
   ],
   "source": [
    "0.9830492532846131 / 0.95"
   ]
  },
  {
   "cell_type": "code",
   "execution_count": 34,
   "metadata": {},
   "outputs": [
    {
     "data": {
      "text/plain": [
       "100"
      ]
     },
     "execution_count": 34,
     "metadata": {},
     "output_type": "execute_result"
    }
   ],
   "source": [
    "10 ** 2"
   ]
  },
  {
   "cell_type": "code",
   "execution_count": 35,
   "metadata": {},
   "outputs": [
    {
     "data": {
      "text/plain": [
       "10.0"
      ]
     },
     "execution_count": 35,
     "metadata": {},
     "output_type": "execute_result"
    }
   ],
   "source": [
    "100 / 10"
   ]
  },
  {
   "cell_type": "code",
   "execution_count": 36,
   "metadata": {},
   "outputs": [
    {
     "data": {
      "text/plain": [
       "0.9830475724915585"
      ]
     },
     "execution_count": 36,
     "metadata": {},
     "output_type": "execute_result"
    }
   ],
   "source": [
    "0.95 ** (1/3)"
   ]
  },
  {
   "cell_type": "code",
   "execution_count": 15,
   "metadata": {},
   "outputs": [
    {
     "data": {
      "text/plain": [
       "1.0"
      ]
     },
     "execution_count": 15,
     "metadata": {},
     "output_type": "execute_result"
    }
   ],
   "source": [
    "0.95 ** 0"
   ]
  },
  {
   "cell_type": "code",
   "execution_count": null,
   "metadata": {},
   "outputs": [],
   "source": []
  }
 ],
 "metadata": {
  "kernelspec": {
   "display_name": "Python 3.7.6 64-bit",
   "language": "python",
   "name": "python37664bitccdf1d9dfdfd4f9db1d5418350e05498"
  },
  "language_info": {
   "codemirror_mode": {
    "name": "ipython",
    "version": 3
   },
   "file_extension": ".py",
   "mimetype": "text/x-python",
   "name": "python",
   "nbconvert_exporter": "python",
   "pygments_lexer": "ipython3",
   "version": "3.7.6"
  }
 },
 "nbformat": 4,
 "nbformat_minor": 2
}
